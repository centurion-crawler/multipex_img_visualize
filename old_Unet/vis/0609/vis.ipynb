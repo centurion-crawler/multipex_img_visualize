{
 "cells": [
  {
   "cell_type": "code",
   "execution_count": 1,
   "metadata": {},
   "outputs": [],
   "source": [
    "import os \n",
    "import torch \n",
    "import numpy as np \n",
    "from matplotlib import pyplot as plt \n",
    "from tqdm import tqdm \n",
    "im_path = '/mnt/mydisk/zzf/DS-TransUNet-master/vis/0609/img_t/'\n",
    "target_path = '/mnt/mydisk/zzf/DS-TransUNet-master/vis/0609/target_t/'\n"
   ]
  },
  {
   "cell_type": "code",
   "execution_count": 2,
   "metadata": {},
   "outputs": [
    {
     "name": "stderr",
     "output_type": "stream",
     "text": [
      "100%|██████████| 2102/2102 [05:37<00:00,  6.22it/s]\n"
     ]
    }
   ],
   "source": [
    "\n",
    "R_max = 0\n",
    "G_max = 0\n",
    "B_max = 0\n",
    "\n",
    "for im_pt in tqdm(os.listdir(im_path)):\n",
    "    \n",
    "    x = torch.load(im_path+im_pt).cpu().numpy()\n",
    "    y = torch.load(target_path+im_pt).cpu().numpy()\n",
    "    R_max = max(np.percentile(x[0,:,:],99),R_max)\n",
    "    G_max = max(np.percentile(x[1,:,:],99),G_max)\n",
    "    B_max = max(np.percentile(x[2,:,:],99),B_max)"
   ]
  },
  {
   "cell_type": "code",
   "execution_count": 4,
   "metadata": {},
   "outputs": [
    {
     "name": "stderr",
     "output_type": "stream",
     "text": [
      "100%|██████████| 2102/2102 [04:51<00:00,  7.20it/s]\n"
     ]
    }
   ],
   "source": [
    "import cv2\n",
    "res_path = '/mnt/mydisk/zzf/DS-TransUNet-master/vis/0609/res/'\n",
    "for im_pt in tqdm(os.listdir(im_path)):\n",
    "    x = torch.load(im_path+im_pt).cpu().numpy()\n",
    "    y = torch.load(target_path+im_pt).cpu().numpy()\n",
    "    img = np.zeros((384,384,3)).astype(np.uint8)\n",
    "    # R_98 = np.percentile(x[0,:,:],99)\n",
    "    # G_98 = np.percentile(x[1,:,:],99)\n",
    "    # B_98 = np.percentile(x[2,:,:],99)\n",
    "    R_98 = R_max\n",
    "    G_98 = G_max\n",
    "    B_98 = B_max\n",
    "    # print(R_98,G_98,B_98)\n",
    "    if R_98>0:\n",
    "        img[:,:,0] = (((x[0,:,:]/R_98*1.5))*255).astype(np.uint8)\n",
    "    else:\n",
    "        img[:,:,0] = x[0,:,:].astype(np.uint8)\n",
    "    if G_98>0:  \n",
    "        img[:,:,1] = (((x[1,:,:]/G_98)*1.5)*255).astype(np.uint8)\n",
    "    else:\n",
    "        img[:,:,1] = x[1,:,:].astype(np.uint8)\n",
    "    if B_98>0:\n",
    "        img[:,:,2] = (((x[2,:,:]/B_98)*1.5)*255).astype(np.uint8)\n",
    "    else:\n",
    "        img[:,:,2] = x[2,:,:].astype(np.uint8)\n",
    "    cv2.imwrite(res_path+im_pt.replace('.pt','.png'),img)"
   ]
  },
  {
   "cell_type": "code",
   "execution_count": 10,
   "metadata": {},
   "outputs": [
    {
     "name": "stderr",
     "output_type": "stream",
     "text": [
      "  0%|          | 0/2102 [00:00<?, ?it/s]"
     ]
    },
    {
     "name": "stderr",
     "output_type": "stream",
     "text": [
      "  0%|          | 1/2102 [00:00<07:55,  4.42it/s]"
     ]
    },
    {
     "name": "stdout",
     "output_type": "stream",
     "text": [
      "[ 0  1  2  3  4  7 10 11 12 13 15 16 17 18 19 20]\n"
     ]
    },
    {
     "name": "stderr",
     "output_type": "stream",
     "text": [
      "  0%|          | 2/2102 [00:00<07:01,  4.98it/s]"
     ]
    },
    {
     "name": "stdout",
     "output_type": "stream",
     "text": [
      "[ 0  1  2  3  4  5  8  9 10 11 12 13 15 16 18 19 20]\n",
      "[ 0  5  6  8  9 10 12 15 16 17 18 19 20]\n"
     ]
    },
    {
     "name": "stderr",
     "output_type": "stream",
     "text": [
      "  0%|          | 5/2102 [00:00<06:19,  5.53it/s]"
     ]
    },
    {
     "name": "stdout",
     "output_type": "stream",
     "text": [
      "[0 2 3]\n",
      "[ 0  2  3  5  6  7  8  9 10 11 12 13 15 16 19 20]\n"
     ]
    },
    {
     "name": "stderr",
     "output_type": "stream",
     "text": [
      "  0%|          | 6/2102 [00:01<06:54,  5.05it/s]"
     ]
    },
    {
     "name": "stdout",
     "output_type": "stream",
     "text": [
      "[ 0  3  5  6  8  9 10 12 15 16 20]\n"
     ]
    },
    {
     "name": "stderr",
     "output_type": "stream",
     "text": [
      "  0%|          | 6/2102 [00:01<07:59,  4.37it/s]\n"
     ]
    },
    {
     "ename": "KeyboardInterrupt",
     "evalue": "",
     "output_type": "error",
     "traceback": [
      "\u001b[0;31m---------------------------------------------------------------------------\u001b[0m",
      "\u001b[0;31mKeyboardInterrupt\u001b[0m                         Traceback (most recent call last)",
      "\u001b[1;32m/mnt/mydisk/zzf/DS-TransUNet-master/vis/0609/vis.ipynb Cell 4\u001b[0m line \u001b[0;36m5\n\u001b[1;32m     <a href='vscode-notebook-cell://ssh-remote%2B7b22686f73744e616d65223a224c6162323030227d/mnt/mydisk/zzf/DS-TransUNet-master/vis/0609/vis.ipynb#W4sdnNjb2RlLXJlbW90ZQ%3D%3D?line=50'>51</a>\u001b[0m \u001b[39m# cell_color_dict = {\u001b[39;00m\n\u001b[1;32m     <a href='vscode-notebook-cell://ssh-remote%2B7b22686f73744e616d65223a224c6162323030227d/mnt/mydisk/zzf/DS-TransUNet-master/vis/0609/vis.ipynb#W4sdnNjb2RlLXJlbW90ZQ%3D%3D?line=51'>52</a>\u001b[0m \u001b[39m#     1:(255,0,0),\u001b[39;00m\n\u001b[1;32m     <a href='vscode-notebook-cell://ssh-remote%2B7b22686f73744e616d65223a224c6162323030227d/mnt/mydisk/zzf/DS-TransUNet-master/vis/0609/vis.ipynb#W4sdnNjb2RlLXJlbW90ZQ%3D%3D?line=52'>53</a>\u001b[0m \u001b[39m#     2:(0,255,0),\u001b[39;00m\n\u001b[1;32m     <a href='vscode-notebook-cell://ssh-remote%2B7b22686f73744e616d65223a224c6162323030227d/mnt/mydisk/zzf/DS-TransUNet-master/vis/0609/vis.ipynb#W4sdnNjb2RlLXJlbW90ZQ%3D%3D?line=53'>54</a>\u001b[0m \u001b[39m#     3:(0,0,255)\u001b[39;00m\n\u001b[1;32m     <a href='vscode-notebook-cell://ssh-remote%2B7b22686f73744e616d65223a224c6162323030227d/mnt/mydisk/zzf/DS-TransUNet-master/vis/0609/vis.ipynb#W4sdnNjb2RlLXJlbW90ZQ%3D%3D?line=54'>55</a>\u001b[0m \u001b[39m# }\u001b[39;00m\n\u001b[1;32m     <a href='vscode-notebook-cell://ssh-remote%2B7b22686f73744e616d65223a224c6162323030227d/mnt/mydisk/zzf/DS-TransUNet-master/vis/0609/vis.ipynb#W4sdnNjb2RlLXJlbW90ZQ%3D%3D?line=56'>57</a>\u001b[0m \u001b[39mfor\u001b[39;00m t_pt \u001b[39min\u001b[39;00m tqdm(os\u001b[39m.\u001b[39mlistdir(target_path)):\n\u001b[0;32m---> <a href='vscode-notebook-cell://ssh-remote%2B7b22686f73744e616d65223a224c6162323030227d/mnt/mydisk/zzf/DS-TransUNet-master/vis/0609/vis.ipynb#W4sdnNjb2RlLXJlbW90ZQ%3D%3D?line=57'>58</a>\u001b[0m     x \u001b[39m=\u001b[39m torch\u001b[39m.\u001b[39margmax(torch\u001b[39m.\u001b[39;49mload(target_path\u001b[39m+\u001b[39;49mt_pt),dim\u001b[39m=\u001b[39m\u001b[39m0\u001b[39m)\u001b[39m.\u001b[39mnumpy()\n\u001b[1;32m     <a href='vscode-notebook-cell://ssh-remote%2B7b22686f73744e616d65223a224c6162323030227d/mnt/mydisk/zzf/DS-TransUNet-master/vis/0609/vis.ipynb#W4sdnNjb2RlLXJlbW90ZQ%3D%3D?line=58'>59</a>\u001b[0m     \u001b[39mprint\u001b[39m(np\u001b[39m.\u001b[39munique(x))\n\u001b[1;32m     <a href='vscode-notebook-cell://ssh-remote%2B7b22686f73744e616d65223a224c6162323030227d/mnt/mydisk/zzf/DS-TransUNet-master/vis/0609/vis.ipynb#W4sdnNjb2RlLXJlbW90ZQ%3D%3D?line=59'>60</a>\u001b[0m     outB \u001b[39m=\u001b[39m np\u001b[39m.\u001b[39mzeros((\u001b[39m384\u001b[39m,\u001b[39m384\u001b[39m))\u001b[39m.\u001b[39mastype(np\u001b[39m.\u001b[39muint8)\n",
      "File \u001b[0;32m~/anaconda3/envs/pyg/lib/python3.9/site-packages/torch/serialization.py:809\u001b[0m, in \u001b[0;36mload\u001b[0;34m(f, map_location, pickle_module, weights_only, **pickle_load_args)\u001b[0m\n\u001b[1;32m    807\u001b[0m             \u001b[39mexcept\u001b[39;00m \u001b[39mRuntimeError\u001b[39;00m \u001b[39mas\u001b[39;00m e:\n\u001b[1;32m    808\u001b[0m                 \u001b[39mraise\u001b[39;00m pickle\u001b[39m.\u001b[39mUnpicklingError(UNSAFE_MESSAGE \u001b[39m+\u001b[39m \u001b[39mstr\u001b[39m(e)) \u001b[39mfrom\u001b[39;00m \u001b[39mNone\u001b[39;00m\n\u001b[0;32m--> 809\u001b[0m         \u001b[39mreturn\u001b[39;00m _load(opened_zipfile, map_location, pickle_module, \u001b[39m*\u001b[39;49m\u001b[39m*\u001b[39;49mpickle_load_args)\n\u001b[1;32m    810\u001b[0m \u001b[39mif\u001b[39;00m weights_only:\n\u001b[1;32m    811\u001b[0m     \u001b[39mtry\u001b[39;00m:\n",
      "File \u001b[0;32m~/anaconda3/envs/pyg/lib/python3.9/site-packages/torch/serialization.py:1172\u001b[0m, in \u001b[0;36m_load\u001b[0;34m(zip_file, map_location, pickle_module, pickle_file, **pickle_load_args)\u001b[0m\n\u001b[1;32m   1170\u001b[0m unpickler \u001b[39m=\u001b[39m UnpicklerWrapper(data_file, \u001b[39m*\u001b[39m\u001b[39m*\u001b[39mpickle_load_args)\n\u001b[1;32m   1171\u001b[0m unpickler\u001b[39m.\u001b[39mpersistent_load \u001b[39m=\u001b[39m persistent_load\n\u001b[0;32m-> 1172\u001b[0m result \u001b[39m=\u001b[39m unpickler\u001b[39m.\u001b[39;49mload()\n\u001b[1;32m   1174\u001b[0m torch\u001b[39m.\u001b[39m_utils\u001b[39m.\u001b[39m_validate_loaded_sparse_tensors()\n\u001b[1;32m   1176\u001b[0m \u001b[39mreturn\u001b[39;00m result\n",
      "File \u001b[0;32m~/anaconda3/envs/pyg/lib/python3.9/site-packages/torch/serialization.py:1142\u001b[0m, in \u001b[0;36m_load.<locals>.persistent_load\u001b[0;34m(saved_id)\u001b[0m\n\u001b[1;32m   1140\u001b[0m \u001b[39melse\u001b[39;00m:\n\u001b[1;32m   1141\u001b[0m     nbytes \u001b[39m=\u001b[39m numel \u001b[39m*\u001b[39m torch\u001b[39m.\u001b[39m_utils\u001b[39m.\u001b[39m_element_size(dtype)\n\u001b[0;32m-> 1142\u001b[0m     typed_storage \u001b[39m=\u001b[39m load_tensor(dtype, nbytes, key, _maybe_decode_ascii(location))\n\u001b[1;32m   1144\u001b[0m \u001b[39mreturn\u001b[39;00m typed_storage\n",
      "File \u001b[0;32m~/anaconda3/envs/pyg/lib/python3.9/site-packages/torch/serialization.py:1112\u001b[0m, in \u001b[0;36m_load.<locals>.load_tensor\u001b[0;34m(dtype, numel, key, location)\u001b[0m\n\u001b[1;32m   1109\u001b[0m \u001b[39mdef\u001b[39;00m \u001b[39mload_tensor\u001b[39m(dtype, numel, key, location):\n\u001b[1;32m   1110\u001b[0m     name \u001b[39m=\u001b[39m \u001b[39mf\u001b[39m\u001b[39m'\u001b[39m\u001b[39mdata/\u001b[39m\u001b[39m{\u001b[39;00mkey\u001b[39m}\u001b[39;00m\u001b[39m'\u001b[39m\n\u001b[0;32m-> 1112\u001b[0m     storage \u001b[39m=\u001b[39m zip_file\u001b[39m.\u001b[39;49mget_storage_from_record(name, numel, torch\u001b[39m.\u001b[39;49mUntypedStorage)\u001b[39m.\u001b[39m_typed_storage()\u001b[39m.\u001b[39m_untyped_storage\n\u001b[1;32m   1113\u001b[0m     \u001b[39m# TODO: Once we decide to break serialization FC, we can\u001b[39;00m\n\u001b[1;32m   1114\u001b[0m     \u001b[39m# stop wrapping with TypedStorage\u001b[39;00m\n\u001b[1;32m   1115\u001b[0m     typed_storage \u001b[39m=\u001b[39m torch\u001b[39m.\u001b[39mstorage\u001b[39m.\u001b[39mTypedStorage(\n\u001b[1;32m   1116\u001b[0m         wrap_storage\u001b[39m=\u001b[39mrestore_location(storage, location),\n\u001b[1;32m   1117\u001b[0m         dtype\u001b[39m=\u001b[39mdtype,\n\u001b[1;32m   1118\u001b[0m         _internal\u001b[39m=\u001b[39m\u001b[39mTrue\u001b[39;00m)\n",
      "\u001b[0;31mKeyboardInterrupt\u001b[0m: "
     ]
    }
   ],
   "source": [
    "import cv2\n",
    "\n",
    "cell_dict = {\n",
    "    \"B cells\" : 1,\n",
    "    \"CD4 T cells\": 2,\n",
    "    \"CD8 T cells\": 3,\n",
    "    \"Double-positive T cells\" :4,\n",
    "    \"MC1 (HLADR-CD14+CD16-CD11C+CD11b-)\" :5,\n",
    "    \"MC2 (HLADR-CD14+CD16-CD11C-CD11b-)\" :6,\n",
    "    \"MC3 (HLADR-CD14-CD16-CD11C-CD11b^{hi})\" :7,\n",
    "    \"MC4 (HLADR^{hi}CD14^{hi}CD16+CD11c+CD11b+)\" :8,\n",
    "    \"MC5 (HLADR+CD14^{hi}CD16+CD11c-CD11b+)\" :9,\n",
    "    \"MC6 (HLADR+CD14+CD16-CD11c-CD11b-)\" :10,\n",
    "    \"Regulatory T cells\" :11,\n",
    "    \"Stroma (Collagen+)\" :12,\n",
    "    \"Stroma (FAP+)\": 13,\n",
    "    \"Stroma (PDGFRb+)\": 14,\n",
    "    \"Stroma (SMA+)\": 15,\n",
    "    \"Stroma (Vimentin+)\" :16,\n",
    "    \"Tumor (CA9+)\" :17,\n",
    "    \"Tumor (Ki67+)\" :18,\n",
    "    \"Tumor (VEGF+)\" :19,\n",
    "    \"Tumor n.c.\" :20\n",
    "}\n",
    "\n",
    "cell_res = {\n",
    "    \"B cells\" : (0,0,255),\n",
    "    \"CD4 T cells\": (0,0,255),\n",
    "    \"CD8 T cells\": (0,0,255),\n",
    "    \"Double-positive T cells\" :(0,0,255),\n",
    "    \"MC1 (HLADR-CD14+CD16-CD11C+CD11b-)\" :(0,255,0),\n",
    "    \"MC2 (HLADR-CD14+CD16-CD11C-CD11b-)\" :(255,0,0),\n",
    "    \"MC3 (HLADR-CD14-CD16-CD11C-CD11b^{hi})\" :(0,255,0),\n",
    "    \"MC4 (HLADR^{hi}CD14^{hi}CD16+CD11c+CD11b+)\" :(0,0,255),\n",
    "    \"MC5 (HLADR+CD14^{hi}CD16+CD11c-CD11b+)\" :(0,255,0),\n",
    "    \"MC6 (HLADR+CD14+CD16-CD11c-CD11b-)\" :(0,255,0),\n",
    "    \"Regulatory T cells\" :(0,0,255),\n",
    "    \"Stroma (Collagen+)\" :(0,255,0),\n",
    "    \"Stroma (FAP+)\": (0,255,0),\n",
    "    \"Stroma (PDGFRb+)\": (0,255,0),\n",
    "    \"Stroma (SMA+)\": (0,255,0),\n",
    "    \"Stroma (Vimentin+)\" :(0,255,0),\n",
    "    \"Tumor (CA9+)\" :(0,255,0),\n",
    "    \"Tumor (Ki67+)\" :(0,255,0),\n",
    "    \"Tumor (VEGF+)\" :(0,255,0),\n",
    "    \"Tumor n.c.\" :(0,255,0)\n",
    "}\n",
    "\n",
    "cell_color_dict = {cell_dict[k]:cell_res[k] for k in cell_dict.keys()}\n",
    "\n",
    "# cell_color_dict = {\n",
    "#     1:(255,0,0),\n",
    "#     2:(0,255,0),\n",
    "#     3:(0,0,255)\n",
    "# }\n",
    "\n",
    "for t_pt in tqdm(os.listdir(target_path)):\n",
    "    x = torch.argmax(torch.load(target_path+t_pt),dim=0).numpy()\n",
    "    print(np.unique(x))\n",
    "    outB = np.zeros((384,384)).astype(np.uint8)\n",
    "    outG = np.zeros((384,384)).astype(np.uint8)\n",
    "    outR = np.zeros((384,384)).astype(np.uint8)\n",
    "    for i in range(1,21):\n",
    "        mi = (x == i)\n",
    "        # print(i,cell_color_dict[i])\n",
    "        outB[mi] = cell_color_dict[i][0]\n",
    "        outG[mi] = cell_color_dict[i][1]\n",
    "        outR[mi] = cell_color_dict[i][2]\n",
    "        # outB[mi] = cell_color_dict[i][0]\n",
    "        # outG[mi] = cell_color_dict[i][1]\n",
    "        # outR[mi] = cell_color_dict[i][2]\n",
    "        \n",
    "    \n",
    "    x3 = cv2.merge([outB,outG,outR])\n",
    "    cv2.imwrite(\"/mnt/mydisk/zzf/DS-TransUNet-master/vis/0609/target_res/\"+t_pt.replace('.pt','.png'),x3)"
   ]
  },
  {
   "cell_type": "code",
   "execution_count": 16,
   "metadata": {},
   "outputs": [
    {
     "name": "stderr",
     "output_type": "stream",
     "text": [
      "100%|██████████| 2102/2102 [10:28<00:00,  3.34it/s]\n"
     ]
    }
   ],
   "source": [
    "for c in cell_res.keys():\n",
    "    os.makedirs(os.path.join(\"/mnt/mydisk/zzf/DS-TransUNet-master/vis/0609/res_by_celltype\",c),exist_ok=True)\n",
    "\n",
    "\n",
    "cell_dict_reverse = {v:k for k,v in cell_dict.items()}\n",
    "for res_path in tqdm(os.listdir('/mnt/mydisk/zzf/DS-TransUNet-master/vis/0609/res')):\n",
    "    x = cv2.imread(\"/mnt/mydisk/zzf/DS-TransUNet-master/vis/0609/res/\"+res_path)\n",
    "    t = torch.load(target_path+res_path.replace('.png','.pt'))\n",
    "    # print(t.shape)\n",
    "    m = torch.argmax(t,dim=0).numpy()\n",
    "    # print(np.unique(m))\n",
    "    for i in range(1,21):\n",
    "        x_ = x.copy()\n",
    "        if np.sum(m==i)==0:\n",
    "            continue\n",
    "        mi = ~(m == i)\n",
    "        x_[:,:,0][mi] = 0 \n",
    "        x_[:,:,1][mi] = 0 \n",
    "        x_[:,:,2][mi] = 0 \n",
    "        cv2.imwrite(os.path.join(\"/mnt/mydisk/zzf/DS-TransUNet-master/vis/0609/res_by_celltype\",cell_dict_reverse[i],res_path),x_)\n",
    "    "
   ]
  }
 ],
 "metadata": {
  "kernelspec": {
   "display_name": "pyg",
   "language": "python",
   "name": "python3"
  },
  "language_info": {
   "codemirror_mode": {
    "name": "ipython",
    "version": 3
   },
   "file_extension": ".py",
   "mimetype": "text/x-python",
   "name": "python",
   "nbconvert_exporter": "python",
   "pygments_lexer": "ipython3",
   "version": "3.9.7"
  }
 },
 "nbformat": 4,
 "nbformat_minor": 2
}
